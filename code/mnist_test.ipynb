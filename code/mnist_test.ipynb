{
 "cells": [
  {
   "cell_type": "code",
   "execution_count": 6,
   "metadata": {},
   "outputs": [],
   "source": [
    "import tensorflow as tf\n",
    "import numpy as np"
   ]
  },
  {
   "cell_type": "code",
   "execution_count": 21,
   "metadata": {},
   "outputs": [],
   "source": [
    "def cnn_model_fn(features, labels, mode):\n",
    "  \"\"\"Model function for CNN.\"\"\"\n",
    "  # Input Layer\n",
    "    \n",
    "  print(\"*****\\n\\n\\n******\")\n",
    "  print(features)\n",
    "  print(features['x'])\n",
    "  print(labels)\n",
    "    \n",
    "    \n",
    "    \n",
    "  input_layer = tf.reshape(features[\"x\"], [-1, 28, 28, 1])\n",
    "  print(input_layer)\n",
    "  print(input_layer.shape)\n",
    "    \n",
    "    \n",
    "    \n",
    "  # Convolutional Layer #1\n",
    "  conv1 = tf.layers.conv2d(\n",
    "      inputs=input_layer,\n",
    "      filters=32,\n",
    "      kernel_size=[5, 5],\n",
    "      padding=\"same\",\n",
    "      activation=tf.nn.relu)\n",
    "\n",
    "  # Pooling Layer #1\n",
    "  pool1 = tf.layers.max_pooling2d(inputs=conv1, pool_size=[2, 2], strides=2)\n",
    "\n",
    "  # Convolutional Layer #2 and Pooling Layer #2\n",
    "  conv2 = tf.layers.conv2d(\n",
    "      inputs=pool1,\n",
    "      filters=64,\n",
    "      kernel_size=[5, 5],\n",
    "      padding=\"same\",\n",
    "      activation=tf.nn.relu)\n",
    "  pool2 = tf.layers.max_pooling2d(inputs=conv2, pool_size=[2, 2], strides=2)\n",
    "\n",
    "  # Dense Layer\n",
    "  pool2_flat = tf.reshape(pool2, [-1, 7 * 7 * 64])\n",
    "  print(\"pool 2 flat: \", pool2_flat.shape)\n",
    "    \n",
    "  dense = tf.layers.dense(inputs=pool2_flat, units=1024, activation=tf.nn.relu)\n",
    "  print(\"dense: \", dense.shape)\n",
    "    \n",
    "  dropout = tf.layers.dropout(\n",
    "      inputs=dense, rate=0.4, training=mode == tf.estimator.ModeKeys.TRAIN)\n",
    "  print(\"dropout: \", dropout.shape)\n",
    "\n",
    "  # Logits Layer\n",
    "  logits = tf.layers.dense(inputs=dropout, units=10)\n",
    "  print(\"***********\\n\\n\\n\\n***********\")\n",
    "  print(\"logits\")\n",
    "  print(logits.shape)\n",
    "  print(logits)\n",
    "    \n",
    "  predictions = {\n",
    "      # Generate predictions (for PREDICT and EVAL mode)\n",
    "      \"classes\": tf.argmax(input=logits, axis=1),\n",
    "      # Add `softmax_tensor` to the graph. It is used for PREDICT and by the\n",
    "      # `logging_hook`.\n",
    "      \"probabilities\": tf.nn.softmax(logits, name=\"softmax_tensor\")\n",
    "  }\n",
    "\n",
    "  if mode == tf.estimator.ModeKeys.PREDICT:\n",
    "    return tf.estimator.EstimatorSpec(mode=mode, predictions=predictions)\n",
    "\n",
    "  # Calculate Loss (for both TRAIN and EVAL modes)\n",
    "  loss = tf.losses.sparse_softmax_cross_entropy(labels=labels, logits=logits)\n",
    "\n",
    "  # Configure the Training Op (for TRAIN mode)\n",
    "  if mode == tf.estimator.ModeKeys.TRAIN:\n",
    "    optimizer = tf.train.GradientDescentOptimizer(learning_rate=0.001)\n",
    "    train_op = optimizer.minimize(\n",
    "        loss=loss,\n",
    "        global_step=tf.train.get_global_step())\n",
    "    return tf.estimator.EstimatorSpec(mode=mode, loss=loss, train_op=train_op)\n",
    "\n",
    "  # Add evaluation metrics (for EVAL mode)\n",
    "  eval_metric_ops = {\n",
    "      \"accuracy\": tf.metrics.accuracy(\n",
    "          labels=labels, predictions=predictions[\"classes\"])}\n",
    "  return tf.estimator.EstimatorSpec(\n",
    "      mode=mode, loss=loss, eval_metric_ops=eval_metric_ops)"
   ]
  },
  {
   "cell_type": "code",
   "execution_count": 22,
   "metadata": {},
   "outputs": [
    {
     "name": "stdout",
     "output_type": "stream",
     "text": [
      "Extracting MNIST-data/train-images-idx3-ubyte.gz\n",
      "Extracting MNIST-data/train-labels-idx1-ubyte.gz\n",
      "Extracting MNIST-data/t10k-images-idx3-ubyte.gz\n",
      "Extracting MNIST-data/t10k-labels-idx1-ubyte.gz\n"
     ]
    }
   ],
   "source": [
    "  # Load training and eval data\n",
    "  mnist = tf.contrib.learn.datasets.load_dataset(\"mnist\")\n",
    "  train_data = mnist.train.images # Returns np.array\n",
    "  train_labels = np.asarray(mnist.train.labels, dtype=np.int32)\n",
    "  eval_data = mnist.test.images # Returns np.array\n",
    "  eval_labels = np.asarray(mnist.test.labels, dtype=np.int32)"
   ]
  },
  {
   "cell_type": "code",
   "execution_count": 23,
   "metadata": {
    "scrolled": false
   },
   "outputs": [
    {
     "name": "stdout",
     "output_type": "stream",
     "text": [
      "(55000, 784)\n",
      "(55000,)\n",
      "<class 'numpy.int32'>\n"
     ]
    }
   ],
   "source": [
    "print(train_data.shape)\n",
    "\n",
    "print(train_labels.shape)\n",
    "print(type(train_labels[0]))"
   ]
  },
  {
   "cell_type": "code",
   "execution_count": 24,
   "metadata": {},
   "outputs": [],
   "source": [
    "# train_data = train_data[0]\n",
    "# train_labels = train_labels[0]"
   ]
  },
  {
   "cell_type": "code",
   "execution_count": null,
   "metadata": {},
   "outputs": [],
   "source": []
  },
  {
   "cell_type": "code",
   "execution_count": 25,
   "metadata": {},
   "outputs": [
    {
     "name": "stdout",
     "output_type": "stream",
     "text": [
      "INFO:tensorflow:Using default config.\n",
      "INFO:tensorflow:Using config: {'_model_dir': '/tmp/mnist_convnet_model', '_tf_random_seed': None, '_save_summary_steps': 100, '_save_checkpoints_steps': None, '_save_checkpoints_secs': 600, '_session_config': None, '_keep_checkpoint_max': 5, '_keep_checkpoint_every_n_hours': 10000, '_log_step_count_steps': 100, '_service': None, '_cluster_spec': <tensorflow.python.training.server_lib.ClusterSpec object at 0x1173bf978>, '_task_type': 'worker', '_task_id': 0, '_global_id_in_cluster': 0, '_master': '', '_evaluation_master': '', '_is_chief': True, '_num_ps_replicas': 0, '_num_worker_replicas': 1}\n"
     ]
    }
   ],
   "source": [
    "# Create the Estimator\n",
    "mnist_classifier = tf.estimator.Estimator(\n",
    "    model_fn=cnn_model_fn, model_dir=\"/tmp/mnist_convnet_model\")"
   ]
  },
  {
   "cell_type": "code",
   "execution_count": 26,
   "metadata": {},
   "outputs": [],
   "source": [
    "# Set up logging for predictions\n",
    "tensors_to_log = {\"probabilities\": \"softmax_tensor\"}\n",
    "logging_hook = tf.train.LoggingTensorHook(\n",
    "    tensors=tensors_to_log, every_n_iter=50)"
   ]
  },
  {
   "cell_type": "code",
   "execution_count": 27,
   "metadata": {},
   "outputs": [
    {
     "name": "stdout",
     "output_type": "stream",
     "text": [
      "INFO:tensorflow:Calling model_fn.\n",
      "*****\n",
      "\n",
      "\n",
      "******\n",
      "{'x': <tf.Tensor 'random_shuffle_queue_DequeueMany:1' shape=(13, 784) dtype=float32>}\n",
      "Tensor(\"random_shuffle_queue_DequeueMany:1\", shape=(13, 784), dtype=float32, device=/device:CPU:0)\n",
      "Tensor(\"random_shuffle_queue_DequeueMany:2\", shape=(13,), dtype=int32, device=/device:CPU:0)\n",
      "Tensor(\"Reshape:0\", shape=(13, 28, 28, 1), dtype=float32)\n",
      "(13, 28, 28, 1)\n",
      "pool 2 flat:  (13, 3136)\n",
      "dense:  (13, 1024)\n",
      "dropout:  (13, 1024)\n",
      "***********\n",
      "\n",
      "\n",
      "\n",
      "***********\n",
      "logits\n",
      "(13, 10)\n",
      "Tensor(\"dense_1/BiasAdd:0\", shape=(13, 10), dtype=float32)\n",
      "INFO:tensorflow:Done calling model_fn.\n",
      "INFO:tensorflow:Create CheckpointSaverHook.\n",
      "INFO:tensorflow:Graph was finalized.\n",
      "INFO:tensorflow:Restoring parameters from /tmp/mnist_convnet_model/model.ckpt-402\n",
      "INFO:tensorflow:Running local_init_op.\n",
      "INFO:tensorflow:Done running local_init_op.\n",
      "INFO:tensorflow:Saving checkpoints for 403 into /tmp/mnist_convnet_model/model.ckpt.\n",
      "INFO:tensorflow:probabilities = [[0.09307765 0.09431649 0.11002453 0.12234019 0.09680821 0.1020336\n",
      "  0.09631365 0.08768877 0.10262548 0.09477139]\n",
      " [0.10121945 0.09298886 0.10955869 0.12945868 0.08914003 0.09630109\n",
      "  0.09695096 0.09914532 0.10434812 0.08088879]\n",
      " [0.11791994 0.09012395 0.1064651  0.11497505 0.09958721 0.09152105\n",
      "  0.1143263  0.08093762 0.09355649 0.09058728]\n",
      " [0.09701253 0.09850733 0.0946878  0.10531968 0.10085675 0.09263144\n",
      "  0.10020544 0.10382295 0.1038771  0.10307898]\n",
      " [0.10087299 0.1002817  0.11034554 0.11153269 0.10389003 0.09829345\n",
      "  0.10175188 0.09549207 0.09408522 0.08345442]\n",
      " [0.10187218 0.08549124 0.10468173 0.11779927 0.09287414 0.08541783\n",
      "  0.10091918 0.09437332 0.10617074 0.11040033]\n",
      " [0.11000001 0.08124751 0.11222489 0.1254285  0.09843512 0.10031488\n",
      "  0.09902216 0.09339432 0.09524055 0.08469208]\n",
      " [0.10056853 0.08948459 0.09860793 0.1095705  0.08703756 0.11525252\n",
      "  0.10270829 0.09754281 0.10461526 0.09461202]\n",
      " [0.09673629 0.09770124 0.0939972  0.11054938 0.09302835 0.1044898\n",
      "  0.09509291 0.10265476 0.10945691 0.0962931 ]\n",
      " [0.1082143  0.09665017 0.09256161 0.11762043 0.11374071 0.10070924\n",
      "  0.09765346 0.08745805 0.09743322 0.08795888]\n",
      " [0.10351485 0.08366081 0.1114183  0.11489926 0.10058279 0.09145139\n",
      "  0.10328542 0.10556891 0.10506691 0.08055139]\n",
      " [0.08610822 0.08722376 0.10905296 0.11445687 0.10899461 0.09486126\n",
      "  0.11295993 0.09530778 0.10477775 0.08625687]\n",
      " [0.0853519  0.09511428 0.10063437 0.10255864 0.09701409 0.10267476\n",
      "  0.11509586 0.09065262 0.11111841 0.09978499]]\n",
      "INFO:tensorflow:loss = 2.2410438, step = 403\n",
      "INFO:tensorflow:probabilities = [[0.0863796  0.09069172 0.11013898 0.11477144 0.10728889 0.10878132\n",
      "  0.09960686 0.10219646 0.09727949 0.08286524]\n",
      " [0.09819852 0.09770294 0.12124579 0.09674223 0.10201367 0.10357065\n",
      "  0.10573701 0.09833731 0.10433242 0.07211955]\n",
      " [0.09434623 0.09912792 0.09804964 0.11240856 0.09616063 0.09605998\n",
      "  0.11078741 0.08830829 0.11256485 0.0921865 ]\n",
      " [0.13169399 0.07632019 0.09991159 0.1156501  0.09120794 0.0960998\n",
      "  0.10925274 0.09536155 0.10006749 0.08443458]\n",
      " [0.12043613 0.0912675  0.11566103 0.10797076 0.09645806 0.09764001\n",
      "  0.106286   0.09718668 0.08749638 0.07959743]\n",
      " [0.10167854 0.08141266 0.10392387 0.12603922 0.09274768 0.10400197\n",
      "  0.1059033  0.09720902 0.08649448 0.10058932]\n",
      " [0.11883489 0.08604741 0.10569077 0.10417464 0.09884715 0.09795179\n",
      "  0.11259714 0.0941913  0.09803537 0.08362956]\n",
      " [0.11943834 0.09340779 0.11683273 0.11125205 0.08522785 0.10841174\n",
      "  0.10647345 0.08079589 0.09221994 0.08594022]\n",
      " [0.09867001 0.08870454 0.09368102 0.1459756  0.08078316 0.10337713\n",
      "  0.09139371 0.10290418 0.10635521 0.08815552]\n",
      " [0.12057968 0.09854733 0.09465594 0.12236653 0.088685   0.08554988\n",
      "  0.09749842 0.09998176 0.10138275 0.09075274]\n",
      " [0.09386966 0.0984361  0.09204338 0.10545347 0.10154812 0.105074\n",
      "  0.09096257 0.11186402 0.10481542 0.09593327]\n",
      " [0.103352   0.09263263 0.13060923 0.09909689 0.07936863 0.09921751\n",
      "  0.12207302 0.1001767  0.091649   0.0818244 ]\n",
      " [0.09635841 0.08805604 0.09128004 0.10920488 0.08068359 0.10251024\n",
      "  0.09199902 0.1166817  0.10005151 0.12317463]] (1.890 sec)\n",
      "INFO:tensorflow:global_step/sec: 27.389\n",
      "INFO:tensorflow:probabilities = [[0.11813727 0.08369451 0.09477812 0.10930879 0.0909958  0.10289643\n",
      "  0.11164076 0.09720269 0.09956124 0.09178434]\n",
      " [0.09697977 0.08272998 0.11205253 0.11352672 0.10882515 0.09207251\n",
      "  0.10066113 0.09236335 0.10181284 0.09897605]\n",
      " [0.10689041 0.10013399 0.10337427 0.11751246 0.10350809 0.09088713\n",
      "  0.09992552 0.08984156 0.09125675 0.09666978]\n",
      " [0.09708375 0.08574446 0.09651718 0.11116916 0.0986577  0.09849232\n",
      "  0.10293186 0.10466095 0.09974946 0.10499307]\n",
      " [0.14234833 0.07953325 0.10407325 0.11195056 0.08503491 0.09565803\n",
      "  0.11197605 0.09389057 0.09738363 0.07815148]\n",
      " [0.09966189 0.09142716 0.12569147 0.1157456  0.08244377 0.09685829\n",
      "  0.10522185 0.07671302 0.11355285 0.0926841 ]\n",
      " [0.101623   0.09114257 0.09669173 0.12515768 0.0949817  0.09566801\n",
      "  0.10693371 0.09020527 0.10365671 0.09393959]\n",
      " [0.10353485 0.08609832 0.10784358 0.10639647 0.08269539 0.10212307\n",
      "  0.12021184 0.09523834 0.09808157 0.09777661]\n",
      " [0.10977262 0.08255021 0.10778027 0.1027256  0.09402332 0.09663669\n",
      "  0.11247768 0.09051149 0.11219154 0.09133058]\n",
      " [0.09634426 0.09940985 0.09126499 0.1097502  0.08911767 0.09279931\n",
      "  0.10769673 0.10052013 0.10044193 0.11265495]\n",
      " [0.11824195 0.08505446 0.09352785 0.11319908 0.08818021 0.11593039\n",
      "  0.1037884  0.09398751 0.09306887 0.09502132]\n",
      " [0.10721133 0.08271701 0.0886407  0.10143805 0.09939122 0.11018748\n",
      "  0.11569761 0.09927049 0.09880528 0.09664079]\n",
      " [0.08374346 0.09089462 0.10823805 0.11156923 0.10759947 0.11364054\n",
      "  0.09746264 0.08370187 0.10003318 0.10311706]] (1.762 sec)\n",
      "INFO:tensorflow:loss = 2.2389543, step = 503 (3.653 sec)\n",
      "INFO:tensorflow:probabilities = [[0.09473401 0.09833376 0.13078602 0.12346249 0.09976056 0.0938279\n",
      "  0.09949651 0.09564488 0.09211774 0.07183611]\n",
      " [0.11492822 0.0796061  0.09088738 0.11095898 0.10522266 0.08451157\n",
      "  0.1000159  0.09820735 0.10593691 0.10972503]\n",
      " [0.10209276 0.10934884 0.09916688 0.11181877 0.08765619 0.09292223\n",
      "  0.09920571 0.08486047 0.11046766 0.10246049]\n",
      " [0.10946871 0.09105016 0.09060743 0.10137296 0.10298249 0.0950774\n",
      "  0.09811529 0.0901709  0.12145039 0.09970423]\n",
      " [0.12353974 0.07824217 0.1082643  0.11326062 0.09883469 0.08306687\n",
      "  0.10746904 0.07416394 0.10217859 0.11098003]\n",
      " [0.08174589 0.10529827 0.09256626 0.11482496 0.0870022  0.10247988\n",
      "  0.10454524 0.09866767 0.11078502 0.10208458]\n",
      " [0.10684597 0.07656781 0.08208001 0.1145428  0.09970811 0.10128681\n",
      "  0.09507039 0.11176166 0.10159324 0.11054318]\n",
      " [0.10693454 0.08591281 0.08513872 0.12200886 0.11586379 0.10496051\n",
      "  0.09832057 0.102644   0.09951153 0.07870464]\n",
      " [0.09167774 0.09815063 0.09840173 0.10544712 0.10205401 0.09254022\n",
      "  0.09456021 0.09551298 0.10999636 0.11165903]\n",
      " [0.09278831 0.09651273 0.08337817 0.10529885 0.10316972 0.09659993\n",
      "  0.11001237 0.10016181 0.11369527 0.09838279]\n",
      " [0.14404736 0.07769347 0.08739062 0.09936037 0.0958166  0.10229053\n",
      "  0.10118314 0.09304488 0.09175765 0.10741542]\n",
      " [0.13649246 0.08117507 0.1037206  0.11211538 0.08200862 0.12497545\n",
      "  0.09921364 0.09567142 0.08891775 0.07570957]\n",
      " [0.11027188 0.08307001 0.11541782 0.10755557 0.09568422 0.08829428\n",
      "  0.11697281 0.0830107  0.10877704 0.09094569]] (1.700 sec)\n",
      "INFO:tensorflow:global_step/sec: 28.9141\n",
      "INFO:tensorflow:probabilities = [[0.09142929 0.12118523 0.09374157 0.1081     0.11561853 0.09557813\n",
      "  0.09550708 0.08638889 0.10718842 0.08526292]\n",
      " [0.1347923  0.09013012 0.09358214 0.0950615  0.10054175 0.09681107\n",
      "  0.09920579 0.09621509 0.10930121 0.08435896]\n",
      " [0.09612774 0.08813671 0.11111427 0.12786579 0.10009534 0.08502913\n",
      "  0.10711771 0.08081005 0.10587893 0.09782431]\n",
      " [0.11108656 0.10900564 0.08998907 0.10991795 0.09590676 0.0949299\n",
      "  0.09147476 0.09800246 0.11525434 0.08443257]\n",
      " [0.10344051 0.07493243 0.09078126 0.12101295 0.10073339 0.10130154\n",
      "  0.09276615 0.11265847 0.0973504  0.10502286]\n",
      " [0.08967581 0.08227512 0.11910187 0.1195413  0.1032484  0.09632533\n",
      "  0.10311074 0.09483275 0.11100405 0.08088464]\n",
      " [0.07592987 0.09323619 0.0997942  0.11229098 0.09532715 0.0977098\n",
      "  0.09846855 0.09912477 0.10986708 0.11825135]\n",
      " [0.11113013 0.08632679 0.08432189 0.12393355 0.1101223  0.10110039\n",
      "  0.09182606 0.07608348 0.127246   0.08790936]\n",
      " [0.10008372 0.10016332 0.10286946 0.1650069  0.09993882 0.07657374\n",
      "  0.09645347 0.0696959  0.11008796 0.07912666]\n",
      " [0.09690793 0.1028962  0.09394387 0.11950002 0.09071708 0.10482924\n",
      "  0.10282899 0.09103682 0.09658109 0.10075871]\n",
      " [0.11991759 0.07918075 0.10849761 0.12454157 0.08554674 0.11166789\n",
      "  0.09926378 0.08170778 0.10132136 0.08835497]\n",
      " [0.13837464 0.09042153 0.08469842 0.11166843 0.08337953 0.08546864\n",
      "  0.10388622 0.0836226  0.10549762 0.11298234]\n",
      " [0.11258342 0.08404251 0.10701305 0.09813328 0.10816443 0.10582081\n",
      "  0.09703322 0.08867122 0.10406303 0.09447499]] (1.758 sec)\n"
     ]
    },
    {
     "name": "stdout",
     "output_type": "stream",
     "text": [
      "INFO:tensorflow:loss = 2.1338713, step = 603 (3.458 sec)\n",
      "INFO:tensorflow:Saving checkpoints for 603 into /tmp/mnist_convnet_model/model.ckpt.\n",
      "INFO:tensorflow:Loss for final step: 2.1338713.\n"
     ]
    },
    {
     "data": {
      "text/plain": [
       "<tensorflow.python.estimator.estimator.Estimator at 0x1173bffd0>"
      ]
     },
     "execution_count": 27,
     "metadata": {},
     "output_type": "execute_result"
    }
   ],
   "source": [
    "# Train the model\n",
    "train_input_fn = tf.estimator.inputs.numpy_input_fn(\n",
    "    x={\"x\": train_data},\n",
    "    y=train_labels,\n",
    "    batch_size=13,\n",
    "    num_epochs=None,\n",
    "    shuffle=True)\n",
    "mnist_classifier.train(\n",
    "    input_fn=train_input_fn,\n",
    "    steps=201,\n",
    "    hooks=[logging_hook])"
   ]
  },
  {
   "cell_type": "code",
   "execution_count": 7,
   "metadata": {},
   "outputs": [
    {
     "name": "stdout",
     "output_type": "stream",
     "text": [
      "INFO:tensorflow:Calling model_fn.\n",
      "INFO:tensorflow:Done calling model_fn.\n",
      "INFO:tensorflow:Starting evaluation at 2018-11-15-08:22:20\n",
      "INFO:tensorflow:Graph was finalized.\n",
      "INFO:tensorflow:Restoring parameters from /tmp/mnist_convnet_model/model.ckpt-203\n",
      "INFO:tensorflow:Running local_init_op.\n",
      "INFO:tensorflow:Done running local_init_op.\n",
      "INFO:tensorflow:Finished evaluation at 2018-11-15-08:22:27\n",
      "INFO:tensorflow:Saving dict for global step 203: accuracy = 0.2576, global_step = 203, loss = 2.2581801\n",
      "{'accuracy': 0.2576, 'loss': 2.2581801, 'global_step': 203}\n"
     ]
    }
   ],
   "source": [
    "# Evaluate the model and print results\n",
    "eval_input_fn = tf.estimator.inputs.numpy_input_fn(\n",
    "    x={\"x\": eval_data},\n",
    "    y=eval_labels,\n",
    "    num_epochs=1,\n",
    "    shuffle=False)\n",
    "eval_results = mnist_classifier.evaluate(input_fn=eval_input_fn)\n",
    "print(eval_results)"
   ]
  },
  {
   "cell_type": "code",
   "execution_count": null,
   "metadata": {},
   "outputs": [],
   "source": []
  },
  {
   "cell_type": "code",
   "execution_count": null,
   "metadata": {},
   "outputs": [],
   "source": []
  },
  {
   "cell_type": "code",
   "execution_count": 7,
   "metadata": {},
   "outputs": [],
   "source": [
    "import nrrd\n",
    "import numpy as np\n",
    "from utils import imshow\n",
    "\n",
    "# readdata, header = nrrd.read('../data/1241031155/9.40CHESTSegmentation.seg.nrrd')\n",
    "labeldata_load, header = nrrd.read('../data/1241031155/9.40CHESTSegmentation-label.nrrd')\n",
    "image_load, header2 = nrrd.read('../data/1241031155/9.40CHESTABDPELVIS.nrrd')"
   ]
  },
  {
   "cell_type": "code",
   "execution_count": null,
   "metadata": {},
   "outputs": [],
   "source": []
  },
  {
   "cell_type": "code",
   "execution_count": 33,
   "metadata": {},
   "outputs": [
    {
     "name": "stdout",
     "output_type": "stream",
     "text": [
      "(512, 512, 265)\n",
      "(265, 512, 512)\n"
     ]
    },
    {
     "data": {
      "image/png": "[encoded data removed]",
      "text/plain": [
       "<matplotlib.figure.Figure at 0x11a4bb550>"
      ]
     },
     "metadata": {},
     "output_type": "display_data"
    },
    {
     "data": {
      "image/png": "[encoded data removed]",
      "text/plain": [
       "<matplotlib.figure.Figure at 0x11a64d470>"
      ]
     },
     "metadata": {},
     "output_type": "display_data"
    }
   ],
   "source": [
    "image = image_load\n",
    "labeldata = labeldata_load\n",
    "\n",
    "labeldata = np.swapaxes(labeldata, 0, 2)\n",
    "\n",
    "print(image.shape)\n",
    "print(labeldata.shape)\n",
    "imshow(image)\n",
    "imshow(labeldata)"
   ]
  },
  {
   "cell_type": "code",
   "execution_count": 34,
   "metadata": {},
   "outputs": [],
   "source": [
    "lbl_arr = np.zeros(265)\n",
    "for idx, lbl_slice in enumerate(labeldata):\n",
    "#     print(idx, np.any(lbl_slice))\n",
    "    lbl_arr[idx] = int(np.any(lbl_slice))"
   ]
  },
  {
   "cell_type": "code",
   "execution_count": 35,
   "metadata": {},
   "outputs": [
    {
     "name": "stdout",
     "output_type": "stream",
     "text": [
      "(265,)\n",
      "<class 'numpy.ndarray'>\n"
     ]
    }
   ],
   "source": [
    "# for idx, n in enumerate(lbl_arr):\n",
    "#     print(idx, n)\n",
    "    \n",
    "print(lbl_arr.shape)\n",
    "print(type(lbl_arr))"
   ]
  },
  {
   "cell_type": "code",
   "execution_count": 41,
   "metadata": {},
   "outputs": [
    {
     "name": "stdout",
     "output_type": "stream",
     "text": [
      "(265, 262144)\n",
      "(265,)\n"
     ]
    }
   ],
   "source": [
    "image = image.reshape(-1, image.shape[-1])\n",
    "image = np.swapaxes(image, 0, 1)\n",
    "\n",
    "print(image.shape)\n",
    "print(lbl_arr.shape)\n"
   ]
  },
  {
   "cell_type": "code",
   "execution_count": null,
   "metadata": {},
   "outputs": [],
   "source": [
    "#todo: adapt existing cnn creation function for neuroblastoma data"
   ]
  },
  {
   "cell_type": "code",
   "execution_count": null,
   "metadata": {},
   "outputs": [],
   "source": []
  },
  {
   "cell_type": "code",
   "execution_count": null,
   "metadata": {},
   "outputs": [],
   "source": []
  },
  {
   "cell_type": "code",
   "execution_count": null,
   "metadata": {},
   "outputs": [],
   "source": []
  },
  {
   "cell_type": "code",
   "execution_count": null,
   "metadata": {},
   "outputs": [],
   "source": []
  },
  {
   "cell_type": "code",
   "execution_count": null,
   "metadata": {},
   "outputs": [],
   "source": []
  },
  {
   "cell_type": "code",
   "execution_count": null,
   "metadata": {},
   "outputs": [],
   "source": []
  },
  {
   "cell_type": "code",
   "execution_count": null,
   "metadata": {},
   "outputs": [],
   "source": []
  }
 ],
 "metadata": {
  "kernelspec": {
   "display_name": "Python 3",
   "language": "python",
   "name": "python3"
  },
  "language_info": {
   "codemirror_mode": {
    "name": "ipython",
    "version": 3
   },
   "file_extension": ".py",
   "mimetype": "text/x-python",
   "name": "python",
   "nbconvert_exporter": "python",
   "pygments_lexer": "ipython3",
   "version": "3.6.3"
  }
 },
 "nbformat": 4,
 "nbformat_minor": 2
}
