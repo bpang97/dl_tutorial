{
 "cells": [
  {
   "cell_type": "markdown",
   "metadata": {
    "colab_type": "text",
    "id": "gqHhkbF1ooP4"
   },
   "source": [
    "# Overview\n",
    "\n",
    "In this notebook we will cover the basic concepts for training convolutional neural networks in Tensorflow. We will be specifically building a network to detect presence or absence of brain tumors from multimodal MR images. The data that we will be using in this tutorial comes from the MICCAI Brain Tumor Segmentation Challenge (BRaTS). More information about he BRaTS Challenge can be found here: http://braintumorsegmentation.org/\n",
    "\n",
    "For basics of Tensorflow operation and neural networks, consider reviewing the first part of this series **01 - Introduction to Data, Tensorflow and Deep Learning**."
   ]
  },
  {
   "cell_type": "markdown",
   "metadata": {
    "colab_type": "text",
    "id": "TknhdafV1yBm"
   },
   "source": [
    "### Importing modules\n",
    "\n",
    "To train our simple classifer implementation, we will require three open-source libraries (`tensorflow`, `numpy` and `os`) as well as our custom modules created for this tutorial (`net`, `data`). The additional `Markdown` library is used to generate dynamic links to Terminal and TensorBoard below."
   ]
  },
  {
   "cell_type": "code",
   "execution_count": 1,
   "metadata": {
    "colab": {
     "autoexec": {
      "startup": false,
      "wait_interval": 0
     }
    },
    "colab_type": "code",
    "id": "8fK4dGnc1yBo"
   },
   "outputs": [],
   "source": [
    "import os, sys\n",
    "import tensorflow as tf, numpy as np\n",
    "\n",
    "sys.path.append('%s/dl_tutorial/code' % os.environ['HOME'])\n",
    "import net, data\n",
    "\n",
    "os.environ['TF_CPP_MIN_LOG_LEVEL'] = '3' \n",
    "from IPython.display import Markdown as md\n",
    "ip = open('../public-ipv4').read() if os.path.exists('../public-ipv4') else '0.0.0.0'"
   ]
  },
  {
   "cell_type": "markdown",
   "metadata": {
    "colab_type": "text",
    "id": "6l76yVg91yBy"
   },
   "source": [
    "### Hyperparameter variables\n",
    "\n",
    "Hyperparameters are parameters whose values are set before the learning process begins and which in turn influence and direct the training process. These will be the three most important hyperparameter variables to vary in this experiment. We will cover these in more detail as they are encountered in the code below."
   ]
  },
  {
   "cell_type": "code",
   "execution_count": 2,
   "metadata": {
    "colab": {
     "autoexec": {
      "startup": false,
      "wait_interval": 0
     }
    },
    "colab_type": "code",
    "id": "DEjsOVTM1yBy"
   },
   "outputs": [],
   "source": [
    "iterations = 200\n",
    "batch_size = 16\n",
    "learning_rate = 1e-3"
   ]
  },
  {
   "cell_type": "markdown",
   "metadata": {
    "colab_type": "text",
    "id": "PtGaXTqA1yB4"
   },
   "source": [
    "### Preparation\n",
    "\n",
    "Here we perform some basic preparatory steps including: \n",
    "\n",
    "* setting the data root directory \n",
    "\n",
    "> If **AWS** or **Google**: `/data/brats/npy`\n",
    "\n",
    "> If **local**: `../data` (or whichever local directory data is stored in)\n",
    "\n",
    "* making the output directory for saving training checkpoints and logs\n",
    "* defining an `ops` dictionary to save operations\n",
    "* reseting any existing graph that may exist (`tf.reset_default_graph()`)"
   ]
  },
  {
   "cell_type": "code",
   "execution_count": 3,
   "metadata": {
    "colab": {
     "autoexec": {
      "startup": false,
      "wait_interval": 0
     }
    },
    "colab_type": "code",
    "id": "kFkAeBQM1yB6"
   },
   "outputs": [],
   "source": [
    "# root = '/data/brats/npy'\n",
    "root = '../data'\n",
    "output_dir = '%s/dl_tutorial/exp_classifier' % os.environ['HOME']\n",
    "os.makedirs(output_dir, exist_ok=True)\n",
    "ops = {}\n",
    "tf.reset_default_graph()"
   ]
  },
  {
   "cell_type": "markdown",
   "metadata": {
    "colab_type": "text",
    "id": "EoHLXiIA1yCA"
   },
   "source": [
    "### Data batch\n",
    "\n",
    "A data **mini-batch** is used to describe the collection of image and label pairs used to perform one update of our network parameters. The more number of images and labels we use for each update, the more likely that update is to reflect the underlying population data. However, the trade-off is that computationally each network update will require more time. A good initial starting point for images matrices of our dataset may be 16 or 32. \n",
    "\n",
    "To implement batching, we will use a prepared template method `net.init_batch()` to load a number of slices simulatenously:"
   ]
  },
  {
   "cell_type": "code",
   "execution_count": 8,
   "metadata": {
    "colab": {
     "autoexec": {
      "startup": false,
      "wait_interval": 0
     }
    },
    "colab_type": "code",
    "id": "bM0gdn1P1yCA"
   },
   "outputs": [
    {
     "name": "stdout",
     "output_type": "stream",
     "text": [
      "Tensor(\"IteratorGetNext_6:0\", shape=(?, 240, 240, 4), dtype=float32)\n",
      "Tensor(\"IteratorGetNext_6:1\", shape=(?, 240, 240), dtype=uint8)\n"
     ]
    }
   ],
   "source": [
    "batch = net.init_batch(batch_size, root=root, one_hot=False)\n",
    "print(batch['train']['X'])\n",
    "print(batch['train']['y'])"
   ]
  },
  {
   "cell_type": "markdown",
   "metadata": {
    "colab_type": "text",
    "id": "vH7-w4Ng1yCE"
   },
   "source": [
    "### Placeholders\n",
    "\n",
    "A tensorflow **placeholder** is an entry point for us to feed actual data values into the model. We must define this **placeholder** and all subsequent downstream operations performed on this **placeholder** before ever passing data into the model. \n",
    "\n",
    "The placeholder `X` will serve as the method for introduction image data into the graph. The placeholder `y` will serve as the method for introducing the correct target label representing presence (1) or absence (0) of tumor. The placeholder `mode` will serve as a method for introducing whether or not the graph is being executed for training or for validation."
   ]
  },
  {
   "cell_type": "code",
   "execution_count": 14,
   "metadata": {
    "colab": {
     "autoexec": {
      "startup": false,
      "wait_interval": 0
     }
    },
    "colab_type": "code",
    "id": "TPe1tcSh1yCI"
   },
   "outputs": [],
   "source": [
    "X = tf.placeholder(tf.float32, shape=[None, 240, 240, 4], name='X')\n",
    "y = tf.placeholder(tf.int32, shape=[None], name='y')\n",
    "mode = tf.placeholder(tf.bool, name='mode')"
   ]
  },
  {
   "cell_type": "markdown",
   "metadata": {
    "colab_type": "text",
    "id": "qg3y4KVa1yCM"
   },
   "source": [
    "### Network\n",
    "\n",
    "In this example we will be using the architecture defined by `net.create_classifier()`. This classifer alternates a series of convolutions, ReLU non-linearities and max-pooling to collapse the `240 x 240 x 1` input into a single 2-channel out, one number representing likelihood of no tumor and the other representing likelihood of tumor.\n",
    "\n",
    "A simplified diagram of the architecture is as follows:\n",
    "```\n",
    "DEFINITION\n",
    "----------\n",
    "BLOCK = [ CONV --> RELU --> CONV --> RELU --> POOL ]\n",
    "\n",
    "LAYER NAME | OUTPUT SHAPE\n",
    "------------------------------\n",
    "BLOCK-01   | 120 x 120 x 8\n",
    "BLOCK-02   | 060 x 060 x 16 \n",
    "BLOCK-03   | 030 x 030 x 32\n",
    "BLOCK-04   | 015 x 015 x 64\n",
    "BLOCK-05   | 007 x 007 x 96\n",
    "BLOCK-06   | 003 x 003 x 128\n",
    "FLATTEN    | 001 x 001 x 1152\n",
    "FC         | 001 x 001 x 2\n",
    "```\n",
    "\n",
    "Note that this diagram is simplified. This particular algorithm also implements minor additions such as batch normalization and L2 regularization which are byeond the scope of this tutorial. See source code for further information. \n",
    "\n",
    "To implement this architecture, simply call the `net.create_classifier()` method:"
   ]
  },
  {
   "cell_type": "code",
   "execution_count": 15,
   "metadata": {
    "colab": {
     "autoexec": {
      "startup": false,
      "wait_interval": 0
     }
    },
    "colab_type": "code",
    "id": "snQtml5u1yCO"
   },
   "outputs": [],
   "source": [
    "pred = net.create_classifier(X, training=mode)"
   ]
  },
  {
   "cell_type": "markdown",
   "metadata": {
    "colab_type": "text",
    "id": "bUPgKLc41yCS"
   },
   "source": [
    "### Loss and error\n",
    "\n",
    "Next, based on these prediction logits, we need to give the algorithm feedback whether or not the network is correct. To do so, we will use the softmax function, a formula that computes the exponential (e-power) of the given input value divided by the sum of exponential values of all the values in the inputs. For a classification model these values on the range of (0, 1) together represent the probability distribution of the different label classes.\n",
    "\n",
    "To implement a softmax function, we will use the a prepared template function `net.loss_sce()` that serve as a wrapper to the underlying `tf.nn.sparse_softmax_cross_entropy_with_logits()` method described in the previous tutorial.\n",
    "\n",
    "In addition to the loss function, we want to gauge how accurate (%) the predictions are in a human-interpretable way. To do, we will keep track of the `top-k` accuracy of our model, which in our simple two-class prediction simplifies to a `top-1` score (e.g. `k=1`)."
   ]
  },
  {
   "cell_type": "code",
   "execution_count": 16,
   "metadata": {
    "colab": {
     "autoexec": {
      "startup": false,
      "wait_interval": 0
     }
    },
    "colab_type": "code",
    "id": "Tc-mVpIw1yCU"
   },
   "outputs": [],
   "source": [
    "losses = {}\n",
    "losses['sce'] = net.loss_sce(pred, y)\n",
    "losses['topk'] = net.error_topk(pred, y)"
   ]
  },
  {
   "cell_type": "markdown",
   "metadata": {
    "colab_type": "text",
    "id": "btw7h7hq1yCY"
   },
   "source": [
    "### Optimizer\n",
    "\n",
    "An optimizer is a strategy used to update the network parameters through backprogration by taking into account the quantitative loss function. We will be using the Adam optimizer for our tutorials, an algorithm for first-order gradient-based optimization of stochastic objective functions, based on adaptive estimates of lower-order moments. For further reading, see the following link for the original paper: https://arxiv.org/abs/1412.6980\n",
    "\n",
    "A key hyperparameter here is the optimizer **learning rate**. The learning rate describes the absolute magnitude of update for each parameter for one iteration. A higher learning rate will result in a correspondingly larger, more aggresive \"step\" towards the global minimum of a function, however a learning rate that is too high may cause the network to overshoot the true function minimum and even worse, may lead to network instability. A good initial learning rate to use in most experiments, without other guiding heuristics, is `1e-3` which is what we will set our initial `learning_rate` hyperparameter to.\n",
    "\n",
    "Note that the `tf.control_dependencies()` method here ensures that any other pending graph operations must be complete before the optimizer node is executed."
   ]
  },
  {
   "cell_type": "code",
   "execution_count": 17,
   "metadata": {
    "colab": {
     "autoexec": {
      "startup": false,
      "wait_interval": 0
     }
    },
    "colab_type": "code",
    "id": "-t0BnrMI1yCa"
   },
   "outputs": [],
   "source": [
    "update_ops = tf.get_collection(tf.GraphKeys.UPDATE_OPS)\n",
    "\n",
    "with tf.control_dependencies(update_ops):\n",
    "    global_step = tf.train.get_or_create_global_step()\n",
    "    optimizer = tf.train.AdamOptimizer(learning_rate=learning_rate)\n",
    "    ops['train'] = optimizer.minimize(losses['sce'], global_step=global_step)"
   ]
  },
  {
   "cell_type": "markdown",
   "metadata": {
    "colab_type": "text",
    "id": "77plaRDV1yCi"
   },
   "source": [
    "### Collections\n",
    "\n",
    "After creating the placeholders and predictions, we will add them to named Graph collections for easy retrieval after training is complete during inference."
   ]
  },
  {
   "cell_type": "code",
   "execution_count": 18,
   "metadata": {
    "colab": {
     "autoexec": {
      "startup": false,
      "wait_interval": 0
     }
    },
    "colab_type": "code",
    "id": "vDIy5wmu1yCi"
   },
   "outputs": [],
   "source": [
    "tf.add_to_collection(\"inputs\", X)\n",
    "tf.add_to_collection(\"inputs\", mode)\n",
    "tf.add_to_collection(\"outputs\", pred)"
   ]
  },
  {
   "cell_type": "markdown",
   "metadata": {
    "colab_type": "text",
    "id": "NUyY-6jw1yCo"
   },
   "source": [
    "### TensorBoard\n",
    "\n",
    "TensorBoard is useful utility that can be used to track various statistics during the network training process. Here we set up operations to create log files that can be loaded using the TensorBoard interface"
   ]
  },
  {
   "cell_type": "code",
   "execution_count": 19,
   "metadata": {
    "colab": {
     "autoexec": {
      "startup": false,
      "wait_interval": 0
     }
    },
    "colab_type": "code",
    "id": "Rwi2xTdD1yCq"
   },
   "outputs": [],
   "source": [
    "tf.summary.histogram('logits', pred)\n",
    "tf.summary.scalar('sce', losses['sce'])\n",
    "tf.summary.scalar('topk', losses['topk'])\n",
    "ops['summary'] = tf.summary.merge_all()"
   ]
  },
  {
   "cell_type": "markdown",
   "metadata": {
    "colab_type": "text",
    "id": "sbBxycin1yCw"
   },
   "source": [
    "# Network training\n",
    "\n",
    "Now that graph, loss function and optimizer have been configured, it is time to run the training algorithm. To begin we define a new `tf.Session` class and initialize our basic objects to enable saving intermediate checkpoints and writing log data. In addition we initialize `coord` and `thread` objects to handle asynchronous loading of input data into batches:\n",
    "```\n",
    "sess, saver, writer_train, writer_valid = net.init_session(sess, output_dir)\n",
    "```\n",
    "\n",
    "To perform actual training, we will construct a loop to repeat parameter updates a total of `iteration` times. For each update, we will start by loading the data into batches `X_batch` and `y_batch`:\n",
    "```\n",
    "X_batch, y_batch = sess.run([batch['train']['X'], batch['train']['y']])\n",
    "```\n",
    "\n",
    "We will then collapse the label masks into either 0 or 1 based on whether or not any mask is present in the entire label:\n",
    "```\n",
    "y_batch = np.max(y_batch > 0, axis=(1,2)).astype('float32')\n",
    "```\n",
    "\n",
    "At last we call `sess.run()` to run one iteration of the training process. Specifically we wil request the network to output the `error` (accuracy %), `summary` (used for creating logs) and `step` (global step reflecting total number of iterations). Note that the `ops['train']` operation corresponding to the optimizer node is also called, but there is no output for this function and hence no (`_,`) return variable.\n",
    "```\n",
    " _, metric, summary, step  = sess.run(\n",
    "                [ops['train'], losses, ops['summary'], global_step],\n",
    "                feed_dict={\n",
    "                    X: X_batch, \n",
    "                    y: y_batch, \n",
    "                    mode: True})\n",
    "```\n",
    "\n",
    "Finally, for every 10 updates, will ask the network to run against a separate validation cohort (e.g. completely separate from the training dataset) to track the overall generalization of the algorithm's learned representation:\n",
    "```\n",
    "if not i % 10:\n",
    "    ...\n",
    "```\n",
    "\n",
    "This entire training process can be executed by running the following cell:"
   ]
  },
  {
   "cell_type": "code",
   "execution_count": 20,
   "metadata": {
    "colab": {
     "autoexec": {
      "startup": false,
      "wait_interval": 0
     }
    },
    "colab_type": "code",
    "id": "Inz2pmcD1yCw"
   },
   "outputs": [
    {
     "name": "stdout",
     "output_type": "stream",
     "text": [
      "\n",
      "\n",
      "Training Statistics:\n",
      "\n",
      "0000200 | TRAIN - sce : 0.1203 - topk : 0.9552  | VALID - sce : 1.7631 - topk : 0.5217 \r"
     ]
    }
   ],
   "source": [
    "with tf.Session() as sess:\n",
    "    \n",
    "    sess, saver, writer_train, writer_valid = net.init_session(sess, output_dir)\n",
    "    print('\\n\\nTraining Statistics:\\n')\n",
    "\n",
    "    try:\n",
    "        coord = tf.train.Coordinator()\n",
    "        threads = tf.train.start_queue_runners(coord=coord)\n",
    "        metrics = net.init_metrics(losses)\n",
    "\n",
    "        for i in range(iterations):\n",
    "            \n",
    "            # --- Run a single iteration of training\n",
    "            X_batch, y_batch = sess.run([batch['train']['X'], batch['train']['y']])\n",
    "            y_batch = np.max(y_batch > 0, axis=(1,2)).astype('float32')\n",
    "            _, metric, summary, step  = sess.run(\n",
    "                [ops['train'], losses, ops['summary'], global_step],\n",
    "                feed_dict={\n",
    "                    X: X_batch, \n",
    "                    y: y_batch, \n",
    "                    mode: True})\n",
    "\n",
    "            writer_train.add_summary(summary, step)\n",
    "            metrics = net.update_ema(metrics, metric, mode='train', iteration=i)\n",
    "            net.print_status(metrics, step, metric_names=['sce', 'topk'])\n",
    "\n",
    "            # --- Every 10th iteration run a single validation batch\n",
    "            if not i % 10:\n",
    "\n",
    "                X_batch, y_batch = sess.run([batch['valid']['X'], batch['valid']['y']])\n",
    "                y_batch = np.max(y_batch > 0, axis=(1,2)).astype('float32')\n",
    "                metric, summary = sess.run(\n",
    "                    [losses, ops['summary']],\n",
    "                    feed_dict={\n",
    "                        X: X_batch, \n",
    "                        y: y_batch, \n",
    "                        mode: False})\n",
    "\n",
    "                writer_valid.add_summary(summary, step)\n",
    "                metrics = net.update_ema(metrics, metric, mode='valid', iteration=i)\n",
    "                net.print_status(metrics, step, metric_names=['sce', 'topk'])\n",
    "\n",
    "        saver.save(sess, '%s/checkpoint/model.ckpy' % output_dir)\n",
    "\n",
    "    finally:\n",
    "        coord.request_stop()\n",
    "        coord.join(threads)\n",
    "        saver.save(sess, '%s/checkpoint/model.ckpy' % output_dir)"
   ]
  },
  {
   "cell_type": "markdown",
   "metadata": {
    "colab_type": "text",
    "id": "eQ35dAIm1yC4"
   },
   "source": [
    "In the above space you will see updates of algorithm training status including number of iterations and errors on both the training and validation set data."
   ]
  },
  {
   "cell_type": "markdown",
   "metadata": {
    "colab_type": "text",
    "id": "c6RtivH21yC6"
   },
   "source": [
    "# TensorBoard \n",
    "\n",
    "### Overview\n",
    "\n",
    "TensorBoard is a suite of web applications for inspecting and understanding your TensorFlow runs and graphs. To use Tensorboard, you must embed specialized `tf.summary.*` operations into your graph which produce serialized protobufs that track various training statistics over time. The supported summary ops include:\n",
    "\n",
    "* tf.summary.scalar\n",
    "* tf.summary.image\n",
    "* tf.summary.audio\n",
    "* tf.summary.text\n",
    "* tf.summary.histogram\n",
    "\n",
    "During the training process, a specialized `summary.FileWriters()` class is used to take summary data created by `tf.summary.*` operations and write them to a specified directory, known as the `logdir`. This was implemented in following line of code above:\n",
    "```\n",
    "writer_valid.add_summary(summary, step)\n",
    "```\n",
    "\n",
    "### Launching TensorBoard\n",
    "\n",
    "To launch TensorBoard, run the following command:"
   ]
  },
  {
   "cell_type": "code",
   "execution_count": null,
   "metadata": {
    "colab": {
     "autoexec": {
      "startup": false,
      "wait_interval": 0
     }
    },
    "colab_type": "code",
    "id": "hE3FCsHY1yC8"
   },
   "outputs": [],
   "source": [
    "!pkill -9 tensorboard\n",
    "get_ipython().system_raw(\n",
    "    'tensorboard --logdir {} --host 0.0.0.0 --port 6006 &'\n",
    "    .format(output_dir)\n",
    ")"
   ]
  },
  {
   "cell_type": "markdown",
   "metadata": {
    "colab_type": "text",
    "id": "tUwNuiMk1yDA"
   },
   "source": [
    "\n",
    "Note, this is equivalent to the following Terminal command:\n",
    "```\n",
    "tensorboard --logdir={output_dir} --host 0.0.0.0 --port 6006\n",
    "```"
   ]
  },
  {
   "cell_type": "markdown",
   "metadata": {
    "colab_type": "text",
    "id": "DVuHM7Bg9ihI"
   },
   "source": [
    "To launch the TensorBoard session, open up a new tab in your browser and type in the following address pattern:\n",
    "```\n",
    "[IP-address]:6006\n",
    "```\n",
    "\n",
    "Where `[IP-address]` is the same address of form `xxx.xxx.xxx.xxx` that represents the IP address of your instance. If you are on AWS (or a local copy) It should be the same prefix as your Jupyter notebook in the address bar currently at the top of your screen. For example, if the IP address is `34.215.158.68`, then the URL entered into the web browser is `34.215.158.68:6006`.\n",
    "\n",
    "Alternatively, the following lines of code can be used for convience:"
   ]
  },
  {
   "cell_type": "markdown",
   "metadata": {
    "colab_type": "text",
    "id": "U2FmLazf-Ku2"
   },
   "source": [
    "For **AWS instance** use the following Markdown text:"
   ]
  },
  {
   "cell_type": "code",
   "execution_count": null,
   "metadata": {
    "colab": {
     "autoexec": {
      "startup": false,
      "wait_interval": 0
     }
    },
    "colab_type": "code",
    "id": "Nw5tEZN31yDC"
   },
   "outputs": [],
   "source": [
    "md('**Tensorboard URL** (right-click > open in new tab): [http://%s:6006](http://%s:6006)' % (ip, ip))"
   ]
  },
  {
   "cell_type": "markdown",
   "metadata": {
    "colab_type": "text",
    "id": "_iKTRwfb-PNw"
   },
   "source": [
    "For **Google Colaboratory** use the following ngrok commands:"
   ]
  },
  {
   "cell_type": "code",
   "execution_count": null,
   "metadata": {
    "colab": {
     "autoexec": {
      "startup": false,
      "wait_interval": 0
     }
    },
    "colab_type": "code",
    "id": "_UQTQ4rj-dmQ"
   },
   "outputs": [],
   "source": [
    "!pkill -9 ngrok\n",
    "get_ipython().system_raw('./ngrok http 6006 &')\n",
    "!curl -s http://localhost:4040/api/tunnels | python3 -c \\\n",
    "    \"import sys, json; print(json.load(sys.stdin)['tunnels'][0]['public_url'])\""
   ]
  },
  {
   "cell_type": "markdown",
   "metadata": {
    "colab_type": "text",
    "id": "ruMsbKMz1yDM"
   },
   "source": [
    "\n",
    "For more information about TensorBoard usage, see link: https://github.com/tensorflow/tensorboard."
   ]
  },
  {
   "cell_type": "markdown",
   "metadata": {
    "colab_type": "text",
    "id": "NuewZtde1yDO"
   },
   "source": [
    "### Final thoughts\n",
    "\n",
    "Feel free to continue training the algorithm until convergence at reasonable accuracy. Once complete, turn off the kernel (top menu > `Kernel` > `Shutdown`; you can keep this tab open in your browser to retrain later) so that it's resources can be used in the next notebook. You are now ready to move on the **03 - Inference with a Classifier** to use the newly trained network on data."
   ]
  }
 ],
 "metadata": {
  "accelerator": "GPU",
  "colab": {
   "default_view": {},
   "name": "02 - Training a Classifier.ipynb",
   "provenance": [],
   "version": "0.3.2",
   "views": {}
  },
  "kernelspec": {
   "display_name": "Python 3",
   "language": "python",
   "name": "python3"
  },
  "language_info": {
   "codemirror_mode": {
    "name": "ipython",
    "version": 3
   },
   "file_extension": ".py",
   "mimetype": "text/x-python",
   "name": "python",
   "nbconvert_exporter": "python",
   "pygments_lexer": "ipython3",
   "version": "3.6.3"
  }
 },
 "nbformat": 4,
 "nbformat_minor": 1
}
