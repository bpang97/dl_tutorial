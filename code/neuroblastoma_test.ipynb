{
 "cells": [
  {
   "cell_type": "code",
   "execution_count": null,
   "metadata": {},
   "outputs": [],
   "source": [
    "import nrrd\n",
    "import numpy as np\n",
    "from utils import imshow\n",
    "\n",
    "# readdata, header = nrrd.read('../data/1241031155/9.40CHESTSegmentation.seg.nrrd')\n",
    "labeldata_load, header = nrrd.read('../data/1241031155/9.40CHESTSegmentation-label.nrrd')\n",
    "image_load, header2 = nrrd.read('../data/1241031155/9.40CHESTABDPELVIS.nrrd')"
   ]
  },
  {
   "cell_type": "code",
   "execution_count": null,
   "metadata": {
    "scrolled": false
   },
   "outputs": [],
   "source": [
    "image = image_load\n",
    "labeldata = labeldata_load\n",
    "print(image.shape)\n",
    "print(labeldata.shape)\n",
    "# imshow(image)\n",
    "# imshow(labeldata)\n",
    "\n",
    "image = np.swapaxes(image, 0, 2)\n",
    "labeldata = np.swapaxes(labeldata, 0, 2)\n",
    "print(image.shape)\n",
    "print(labeldata.shape)"
   ]
  },
  {
   "cell_type": "code",
   "execution_count": null,
   "metadata": {},
   "outputs": [],
   "source": [
    "\n",
    "lbl = labeldata[[132],...] #takes one slice of the 265\n",
    "print(lbl.shape)\n",
    "# imshow(lbl)\n",
    "\n",
    "print(lbl)\n",
    "np.any(lbl)\n",
    "\n",
    "# right now for the labels, the area containing the tumor is represented by 1s; every other pixel is 0\n",
    "# do we need to make the labels for each slice binary in [0, 1]?  or do we keep the labels for each slice\n",
    "# as a 2d array containing 0s and 1s?"
   ]
  },
  {
   "cell_type": "code",
   "execution_count": null,
   "metadata": {},
   "outputs": [],
   "source": [
    "\n",
    "\n",
    "#add the fourth dimension (modality) which is just 1\n",
    "image = np.expand_dims(image, axis=3)\n",
    "labeldata = np.expand_dims(labeldata, axis=3)\n",
    "\n",
    "print(image.shape)\n",
    "print(labeldata.shape)\n",
    "# imshow(image)\n",
    "# imshow(labeldata)"
   ]
  },
  {
   "cell_type": "code",
   "execution_count": null,
   "metadata": {
    "scrolled": true
   },
   "outputs": [],
   "source": [
    "lbl = labeldata[[132],...] #takes one slice of the 265\n",
    "img = image[[132],...] #takes one slice of the 265\n",
    "\n",
    "print(img.shape)\n",
    "print(lbl.shape)\n",
    "\n",
    "# imshow(img)\n",
    "imshow(lbl)\n",
    "imshow(dat=img, lbl=lbl, title='Tumor with label overlay')"
   ]
  },
  {
   "cell_type": "code",
   "execution_count": null,
   "metadata": {},
   "outputs": [],
   "source": [
    "import tensorflow as tf\n",
    "\n",
    "\n",
    "print(type(img))\n",
    "print(img.shape)\n",
    "\n",
    "\n",
    "X = tf.placeholder(tf.float32, [None, 512, 512, 1])\n",
    "\n",
    "conv = tf.layers.conv2d(X, filters=8, kernel_size=(3, 3), padding='same')\n",
    "relu = tf.nn.relu(conv)\n",
    "pool = tf.layers.max_pooling2d(relu, pool_size=(2, 2), strides=(2, 2))\n",
    "\n",
    "config = tf.ConfigProto()\n",
    "config.gpu_options.allow_growth = True\n",
    "\n",
    "sess = tf.InteractiveSession(config=config)\n",
    "\n",
    "init = tf.global_variables_initializer()\n",
    "sess.run(init)\n",
    "\n",
    "output = sess.run(pool, feed_dict={X: img})\n",
    "\n",
    "print(output.shape)"
   ]
  },
  {
   "cell_type": "code",
   "execution_count": null,
   "metadata": {
    "scrolled": true
   },
   "outputs": [],
   "source": [
    "imshow(output[..., 0], title='First feature map')\n"
   ]
  },
  {
   "cell_type": "code",
   "execution_count": null,
   "metadata": {},
   "outputs": [],
   "source": [
    "sess.close()\n",
    "import net"
   ]
  },
  {
   "cell_type": "code",
   "execution_count": null,
   "metadata": {},
   "outputs": [],
   "source": [
    "tf.reset_default_graph()\n",
    "\n",
    "X = tf.placeholder(tf.float32, shape=[None, 512, 512, 1], name='X')\n",
    "y = tf.placeholder(tf.int32, shape=[None], name='y')\n",
    "mode = tf.placeholder(tf.bool, name='mode')"
   ]
  },
  {
   "cell_type": "code",
   "execution_count": null,
   "metadata": {},
   "outputs": [],
   "source": [
    "pred = net.create_classifier2(X, training=mode)\n",
    "print(pred.shape)\n",
    "print(pred)\n",
    "loss = tf.nn.sparse_softmax_cross_entropy_with_logits(labels=y, logits=pred)"
   ]
  },
  {
   "cell_type": "code",
   "execution_count": null,
   "metadata": {},
   "outputs": [],
   "source": [
    "sess = tf.InteractiveSession()\n",
    "init = tf.global_variables_initializer()\n",
    "sess.run(init)\n",
    "print(lbl.shape)"
   ]
  },
  {
   "cell_type": "code",
   "execution_count": null,
   "metadata": {},
   "outputs": [],
   "source": [
    "# dat, lbl = data.load(mode='train', n=1)\n",
    "print(img.shape)\n",
    "print(lbl.shape)\n",
    "lbl = np.max(lbl > 0, axis=(1,2,3)).astype('int32')\n",
    "sce, logits = sess.run([loss, pred], {X: img, y: lbl, mode: True})\n",
    "\n",
    "print('REAL (tumor, y/n?): %s' % ('y' if lbl else 'n'))\n",
    "print('PRED (tumor, y/n?): %s' % ('y' if logits[0, 1] > logits[0, 0] else 'n'))\n",
    "print('LOSS (lower value is better prediction): %f' % sce)\n",
    "\n",
    "imshow(img[..., 0], title='the one channel we have')\n",
    "print(lbl)"
   ]
  },
  {
   "cell_type": "code",
   "execution_count": null,
   "metadata": {},
   "outputs": [],
   "source": [
    "sess.close()"
   ]
  },
  {
   "cell_type": "code",
   "execution_count": null,
   "metadata": {},
   "outputs": [],
   "source": []
  },
  {
   "cell_type": "code",
   "execution_count": null,
   "metadata": {},
   "outputs": [],
   "source": [
    "# taken from: https://www.tensorflow.org/tutorials/estimators/cnn\n",
    "print(\"new section\")"
   ]
  },
  {
   "cell_type": "code",
   "execution_count": 21,
   "metadata": {},
   "outputs": [],
   "source": [
    "import nrrd\n",
    "import numpy as np\n",
    "import tensorflow as tf"
   ]
  },
  {
   "cell_type": "code",
   "execution_count": 22,
   "metadata": {},
   "outputs": [],
   "source": [
    "labeldata_load, header = nrrd.read('../data/1241031155/9.40CHESTSegmentation-label.nrrd')\n",
    "image_load, header2 = nrrd.read('../data/1241031155/9.40CHESTABDPELVIS.nrrd')"
   ]
  },
  {
   "cell_type": "code",
   "execution_count": 23,
   "metadata": {},
   "outputs": [],
   "source": [
    "def create_classifier(input_layer, mode): \n",
    "    # Convolutional Layer #1\n",
    "  conv1 = tf.layers.conv2d(\n",
    "      inputs=input_layer,\n",
    "      filters=8,\n",
    "      kernel_size=[5, 5],\n",
    "      padding=\"same\",\n",
    "      activation=tf.nn.relu)   \n",
    "  print(\"conv1: \", conv1.shape)\n",
    "  # Pooling Layer #1\n",
    "  pool1 = tf.layers.max_pooling2d(inputs=conv1, pool_size=[2, 2], strides=2)\n",
    "  print(\"pool1: \", pool1.shape)\n",
    "\n",
    "\n",
    "   # Convolutional Layer #2\n",
    "  conv2 = tf.layers.conv2d(\n",
    "      inputs=pool1,\n",
    "      filters=16,\n",
    "      kernel_size=[5, 5],\n",
    "      padding=\"same\",\n",
    "      activation=tf.nn.relu)   \n",
    "  print(\"conv2: \", conv2.shape)\n",
    "  # Pooling Layer #2\n",
    "  pool2 = tf.layers.max_pooling2d(inputs=conv2, pool_size=[2, 2], strides=2)\n",
    "  print(\"pool2: \", pool2.shape)\n",
    "\n",
    "\n",
    "   # Convolutional Layer #3\n",
    "  conv3 = tf.layers.conv2d(\n",
    "      inputs=pool2,\n",
    "      filters=32,\n",
    "      kernel_size=[5, 5],\n",
    "      padding=\"same\",\n",
    "      activation=tf.nn.relu)   \n",
    "  print(\"conv3: \", conv3.shape)\n",
    "  # Pooling Layer #3\n",
    "  pool3 = tf.layers.max_pooling2d(inputs=conv3, pool_size=[2, 2], strides=2)\n",
    "  print(\"pool3: \", pool3.shape)\n",
    "\n",
    "\n",
    "   # Convolutional Layer #4\n",
    "  conv4 = tf.layers.conv2d(\n",
    "      inputs=pool3,\n",
    "      filters=64,\n",
    "      kernel_size=[5, 5],\n",
    "      padding=\"same\",\n",
    "      activation=tf.nn.relu)   \n",
    "  print(\"conv4: \", conv4.shape)\n",
    "  # Pooling Layer #4\n",
    "  pool4 = tf.layers.max_pooling2d(inputs=conv4, pool_size=[2, 2], strides=2)\n",
    "  print(\"pool4: \", pool4.shape)\n",
    "\n",
    "\n",
    "   # Convolutional Layer #5\n",
    "  conv5 = tf.layers.conv2d(\n",
    "      inputs=pool4,\n",
    "      filters=96,\n",
    "      kernel_size=[5, 5],\n",
    "      padding=\"same\",\n",
    "      activation=tf.nn.relu)   \n",
    "  print(\"conv5: \", conv5.shape)\n",
    "  # Pooling Layer #5\n",
    "  pool5 = tf.layers.max_pooling2d(inputs=conv5, pool_size=[2, 2], strides=2)\n",
    "  print(\"pool5: \", pool5.shape)\n",
    "\n",
    "\n",
    "   # Convolutional Layer #6\n",
    "  conv6 = tf.layers.conv2d(\n",
    "      inputs=pool5,\n",
    "      filters=128,\n",
    "      kernel_size=[5, 5],\n",
    "      padding=\"same\",\n",
    "      activation=tf.nn.relu)   \n",
    "  print(\"conv6: \", conv6.shape)\n",
    "  # Pooling Layer #6\n",
    "  pool6 = tf.layers.max_pooling2d(inputs=conv6, pool_size=[2, 2], strides=2)\n",
    "  print(\"pool6: \", pool6.shape)\n",
    "\n",
    "    \n",
    "   # Dense Layer\n",
    "  pool6_flat = tf.reshape(pool6, [-1, 8 * 8 * 128])\n",
    "  print(\"pool 6 flat: \", pool6_flat.shape)\n",
    "    \n",
    "  dense = tf.layers.dense(inputs=pool6_flat, units=1024, activation=tf.nn.relu)\n",
    "  print(\"dense: \", dense.shape)\n",
    "    \n",
    "  dropout = tf.layers.dropout(\n",
    "      inputs=dense, rate=0.1, training=mode == tf.estimator.ModeKeys.TRAIN)\n",
    "  print(\"dropout: \", dropout.shape)\n",
    "  \n",
    "  output = dropout\n",
    "  return output"
   ]
  },
  {
   "cell_type": "code",
   "execution_count": 24,
   "metadata": {},
   "outputs": [],
   "source": [
    "def cnn_model_fn(features, labels, mode):\n",
    "  \"\"\"Model function for CNN.\"\"\"\n",
    "  # Input Layer\n",
    "    \n",
    "  print(\"*********\\n\\n\\n\\n*********\")\n",
    "  print(features)\n",
    "  print(features[\"x\"])\n",
    "  print(labels)\n",
    "  print(mode)\n",
    "\n",
    "  input_layer = tf.reshape(features[\"x\"], [-1, 512, 512, 1])\n",
    "  print(input_layer)\n",
    "  print(input_layer.shape)\n",
    "\n",
    "  output = create_classifier(input_layer, mode)\n",
    "    \n",
    "    \n",
    "  logits = tf.layers.dense(inputs=output, units=2)\n",
    "  print(\"***********\\n\\n\\n\\n***********\")\n",
    "  print(\"logits\")\n",
    "  print(logits.shape)\n",
    "  print(logits)\n",
    "    \n",
    "  predictions = {\n",
    "      # Generate predictions (for PREDICT and EVAL mode)\n",
    "      \"classes\": tf.argmax(input=logits, axis=1),\n",
    "      # Add `softmax_tensor` to the graph. It is used for PREDICT and by the\n",
    "      # `logging_hook`.\n",
    "      \"probabilities\": tf.nn.softmax(logits, name=\"softmax_tensor\")\n",
    "  }\n",
    "\n",
    "  if mode == tf.estimator.ModeKeys.PREDICT:\n",
    "    return tf.estimator.EstimatorSpec(mode=mode, predictions=predictions)\n",
    "\n",
    "  # Calculate Loss (for both TRAIN and EVAL modes)\n",
    "  loss = tf.losses.sparse_softmax_cross_entropy(labels=labels, logits=logits)\n",
    "\n",
    "  # Configure the Training Op (for TRAIN mode)\n",
    "  if mode == tf.estimator.ModeKeys.TRAIN:\n",
    "    optimizer = tf.train.GradientDescentOptimizer(learning_rate=0.00001)\n",
    "    train_op = optimizer.minimize(\n",
    "        loss=loss,\n",
    "        global_step=tf.train.get_global_step())\n",
    "    return tf.estimator.EstimatorSpec(mode=mode, loss=loss, train_op=train_op)\n",
    "\n",
    "  # Add evaluation metrics (for EVAL mode)\n",
    "  eval_metric_ops = {\n",
    "      \"accuracy\": tf.metrics.accuracy(\n",
    "          labels=labels, predictions=predictions[\"classes\"])}\n",
    "  return tf.estimator.EstimatorSpec(\n",
    "      mode=mode, loss=loss, eval_metric_ops=eval_metric_ops)"
   ]
  },
  {
   "cell_type": "code",
   "execution_count": 25,
   "metadata": {},
   "outputs": [
    {
     "name": "stdout",
     "output_type": "stream",
     "text": [
      "(512, 512, 265)\n",
      "(265, 512, 512)\n"
     ]
    }
   ],
   "source": [
    "image = image_load\n",
    "labeldata = labeldata_load\n",
    "\n",
    "labeldata = np.swapaxes(labeldata, 0, 2)\n",
    "\n",
    "print(image.shape)\n",
    "print(labeldata.shape)\n",
    "# imshow(image)\n",
    "# imshow(labeldata)"
   ]
  },
  {
   "cell_type": "code",
   "execution_count": 26,
   "metadata": {},
   "outputs": [],
   "source": [
    "lbl_arr = np.zeros(265)\n",
    "for idx, lbl_slice in enumerate(labeldata):\n",
    "#     print(idx, np.any(lbl_slice))\n",
    "    lbl_arr[idx] = int(np.any(lbl_slice))"
   ]
  },
  {
   "cell_type": "code",
   "execution_count": 27,
   "metadata": {},
   "outputs": [],
   "source": [
    "# for idx, n in enumerate(lbl_arr):\n",
    "#     print(idx, n)\n",
    "\n",
    "image = image.reshape(-1, image.shape[-1])\n",
    "image = np.swapaxes(image, 0, 1)"
   ]
  },
  {
   "cell_type": "code",
   "execution_count": 28,
   "metadata": {},
   "outputs": [
    {
     "name": "stdout",
     "output_type": "stream",
     "text": [
      "(265, 262144)\n",
      "(265,)\n",
      "<class 'numpy.int32'>\n"
     ]
    }
   ],
   "source": [
    "train_data = image.astype('float32')\n",
    "train_labels = lbl_arr.astype('int32')\n",
    "print(train_data.shape)\n",
    "\n",
    "print(train_labels.shape)\n",
    "print(type(train_labels[0]))"
   ]
  },
  {
   "cell_type": "code",
   "execution_count": 29,
   "metadata": {},
   "outputs": [
    {
     "name": "stdout",
     "output_type": "stream",
     "text": [
      "INFO:tensorflow:Using default config.\n",
      "INFO:tensorflow:Using config: {'_model_dir': 'neuro_convnet_model', '_tf_random_seed': None, '_save_summary_steps': 100, '_save_checkpoints_steps': None, '_save_checkpoints_secs': 600, '_session_config': None, '_keep_checkpoint_max': 5, '_keep_checkpoint_every_n_hours': 10000, '_log_step_count_steps': 100, '_service': None, '_cluster_spec': <tensorflow.python.training.server_lib.ClusterSpec object at 0x12d09da58>, '_task_type': 'worker', '_task_id': 0, '_global_id_in_cluster': 0, '_master': '', '_evaluation_master': '', '_is_chief': True, '_num_ps_replicas': 0, '_num_worker_replicas': 1}\n"
     ]
    }
   ],
   "source": [
    "# Create the Estimator\n",
    "mnist_classifier = tf.estimator.Estimator(\n",
    "    model_fn=cnn_model_fn, model_dir=\"neuro_convnet_model\")"
   ]
  },
  {
   "cell_type": "code",
   "execution_count": 30,
   "metadata": {},
   "outputs": [],
   "source": [
    "# Set up logging for predictions\n",
    "tensors_to_log = {\"probabilities\": \"softmax_tensor\"}\n",
    "logging_hook = tf.train.LoggingTensorHook(\n",
    "    tensors=tensors_to_log, every_n_iter=50)"
   ]
  },
  {
   "cell_type": "code",
   "execution_count": 31,
   "metadata": {},
   "outputs": [
    {
     "name": "stdout",
     "output_type": "stream",
     "text": [
      "INFO:tensorflow:Calling model_fn.\n",
      "*********\n",
      "\n",
      "\n",
      "\n",
      "*********\n",
      "{'x': <tf.Tensor 'random_shuffle_queue_DequeueMany:1' shape=(10, 262144) dtype=float32>}\n",
      "Tensor(\"random_shuffle_queue_DequeueMany:1\", shape=(10, 262144), dtype=float32, device=/device:CPU:0)\n",
      "Tensor(\"random_shuffle_queue_DequeueMany:2\", shape=(10,), dtype=int32, device=/device:CPU:0)\n",
      "train\n",
      "Tensor(\"Reshape:0\", shape=(10, 512, 512, 1), dtype=float32)\n",
      "(10, 512, 512, 1)\n",
      "conv1:  (10, 512, 512, 8)\n",
      "pool1:  (10, 256, 256, 8)\n",
      "conv2:  (10, 256, 256, 16)\n",
      "pool2:  (10, 128, 128, 16)\n",
      "conv3:  (10, 128, 128, 32)\n",
      "pool3:  (10, 64, 64, 32)\n",
      "conv4:  (10, 64, 64, 64)\n",
      "pool4:  (10, 32, 32, 64)\n",
      "conv5:  (10, 32, 32, 96)\n",
      "pool5:  (10, 16, 16, 96)\n",
      "conv6:  (10, 16, 16, 128)\n",
      "pool6:  (10, 8, 8, 128)\n",
      "pool 6 flat:  (10, 8192)\n",
      "dense:  (10, 1024)\n",
      "dropout:  (10, 1024)\n",
      "***********\n",
      "\n",
      "\n",
      "\n",
      "***********\n",
      "logits\n",
      "(10, 2)\n",
      "Tensor(\"dense_1/BiasAdd:0\", shape=(10, 2), dtype=float32)\n",
      "INFO:tensorflow:Done calling model_fn.\n",
      "INFO:tensorflow:Create CheckpointSaverHook.\n",
      "INFO:tensorflow:Graph was finalized.\n",
      "INFO:tensorflow:Restoring parameters from neuro_convnet_model/model.ckpt-109\n",
      "INFO:tensorflow:Running local_init_op.\n",
      "INFO:tensorflow:Done running local_init_op.\n",
      "INFO:tensorflow:Saving checkpoints for 110 into neuro_convnet_model/model.ckpt.\n",
      "INFO:tensorflow:probabilities = [[1.         0.        ]\n",
      " [1.         0.        ]\n",
      " [1.         0.        ]\n",
      " [1.         0.        ]\n",
      " [1.         0.        ]\n",
      " [0.9999999  0.00000013]\n",
      " [1.         0.        ]\n",
      " [1.         0.        ]\n",
      " [1.         0.        ]\n",
      " [1.         0.        ]]\n",
      "INFO:tensorflow:loss = 1.1920928e-08, step = 110\n",
      "INFO:tensorflow:probabilities = [[1.         0.        ]\n",
      " [0.9886326  0.01136741]\n",
      " [1.         0.        ]\n",
      " [1.         0.        ]\n",
      " [1.         0.        ]\n",
      " [1.         0.        ]\n",
      " [1.         0.        ]\n",
      " [0.         1.        ]\n",
      " [1.         0.        ]\n",
      " [0.9991197  0.00088028]] (150.135 sec)\n",
      "INFO:tensorflow:Saving checkpoints for 209 into neuro_convnet_model/model.ckpt.\n",
      "INFO:tensorflow:Loss for final step: 0.5637621.\n"
     ]
    },
    {
     "data": {
      "text/plain": [
       "<tensorflow.python.estimator.estimator.Estimator at 0x12d09d6a0>"
      ]
     },
     "execution_count": 31,
     "metadata": {},
     "output_type": "execute_result"
    }
   ],
   "source": [
    "# Train the model\n",
    "train_input_fn = tf.estimator.inputs.numpy_input_fn(\n",
    "    x={\"x\": train_data},\n",
    "    y=train_labels,\n",
    "    batch_size=10,\n",
    "    num_epochs=None,\n",
    "    shuffle=True)\n",
    "mnist_classifier.train(\n",
    "    input_fn=train_input_fn,\n",
    "    steps=100,\n",
    "    hooks=[logging_hook])"
   ]
  },
  {
   "cell_type": "code",
   "execution_count": null,
   "metadata": {},
   "outputs": [],
   "source": [
    "# seems like after a while, the probabilities become NaN's; need to fix"
   ]
  },
  {
   "cell_type": "code",
   "execution_count": null,
   "metadata": {},
   "outputs": [],
   "source": []
  },
  {
   "cell_type": "code",
   "execution_count": null,
   "metadata": {},
   "outputs": [],
   "source": [
    "# Evaluate the model and print results\n",
    "eval_input_fn = tf.estimator.inputs.numpy_input_fn(\n",
    "    x={\"x\": eval_data},\n",
    "    y=eval_labels,\n",
    "    num_epochs=1,\n",
    "    shuffle=False)\n",
    "eval_results = mnist_classifier.evaluate(input_fn=eval_input_fn)\n",
    "print(eval_results)"
   ]
  },
  {
   "cell_type": "code",
   "execution_count": null,
   "metadata": {},
   "outputs": [],
   "source": []
  },
  {
   "cell_type": "code",
   "execution_count": null,
   "metadata": {},
   "outputs": [],
   "source": []
  },
  {
   "cell_type": "code",
   "execution_count": null,
   "metadata": {},
   "outputs": [],
   "source": []
  },
  {
   "cell_type": "code",
   "execution_count": null,
   "metadata": {},
   "outputs": [],
   "source": []
  },
  {
   "cell_type": "code",
   "execution_count": null,
   "metadata": {},
   "outputs": [],
   "source": []
  },
  {
   "cell_type": "code",
   "execution_count": null,
   "metadata": {},
   "outputs": [],
   "source": []
  },
  {
   "cell_type": "code",
   "execution_count": null,
   "metadata": {},
   "outputs": [],
   "source": []
  }
 ],
 "metadata": {
  "kernelspec": {
   "display_name": "Python 3",
   "language": "python",
   "name": "python3"
  },
  "language_info": {
   "codemirror_mode": {
    "name": "ipython",
    "version": 3
   },
   "file_extension": ".py",
   "mimetype": "text/x-python",
   "name": "python",
   "nbconvert_exporter": "python",
   "pygments_lexer": "ipython3",
   "version": "3.6.3"
  }
 },
 "nbformat": 4,
 "nbformat_minor": 2
}
